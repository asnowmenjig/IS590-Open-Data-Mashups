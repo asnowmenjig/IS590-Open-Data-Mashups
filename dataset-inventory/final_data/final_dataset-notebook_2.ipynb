{
 "cells": [
  {
   "cell_type": "code",
   "execution_count": null,
   "metadata": {},
   "outputs": [],
   "source": [
    "# general process outline\n",
    "\n",
    "# take dataset files\n",
    "# read top x number of rows into pandas dataframe (according to percentage_breakdowns_v2.xlsx)\n",
    "# save new dataframe with only first_name, last_name, fraction_total\n",
    "# assign dataset column and save as new dataframe\n",
    "\n",
    "#combine dataset files\n",
    "## if first_name and last_name match, find average of fraction_total"
   ]
  },
  {
   "cell_type": "code",
   "execution_count": null,
   "metadata": {},
   "outputs": [],
   "source": [
    "# CHUNK: LOADING DATA"
   ]
  },
  {
   "cell_type": "code",
   "execution_count": null,
   "metadata": {},
   "outputs": [],
   "source": [
    "# EEBO\n",
    "\n",
    "import pandas\n",
    "import numpy\n",
    "\n",
    "eebo_df = pandas.read_csv('../eebo/eebo_dataset_final.csv', nrows=40)\n",
    "# eebo_df"
   ]
  }
 ],
 "metadata": {
  "kernelspec": {
   "display_name": "Python 3",
   "language": "python",
   "name": "python3"
  },
  "language_info": {
   "codemirror_mode": {
    "name": "ipython",
    "version": 3
   },
   "file_extension": ".py",
   "mimetype": "text/x-python",
   "name": "python",
   "nbconvert_exporter": "python",
   "pygments_lexer": "ipython3",
   "version": "3.7.1"
  }
 },
 "nbformat": 4,
 "nbformat_minor": 2
}
